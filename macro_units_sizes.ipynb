{
 "cells": [
  {
   "cell_type": "code",
   "execution_count": 1,
   "id": "7f294f7a",
   "metadata": {},
   "outputs": [],
   "source": [
    "import torch\n",
    "import torch.nn as nn\n",
    "import torchvision.models as models\n",
    "from thop import profile\n",
    "\n",
    "import numpy as np"
   ]
  },
  {
   "cell_type": "code",
   "execution_count": 39,
   "id": "fba0c3a5",
   "metadata": {},
   "outputs": [
    {
     "data": {
      "text/plain": [
       "VGG(\n",
       "  (features): Sequential(\n",
       "    (0): Conv2d(3, 64, kernel_size=(3, 3), stride=(1, 1), padding=(1, 1))\n",
       "    (1): ReLU(inplace=True)\n",
       "    (2): Conv2d(64, 64, kernel_size=(3, 3), stride=(1, 1), padding=(1, 1))\n",
       "    (3): ReLU(inplace=True)\n",
       "    (4): MaxPool2d(kernel_size=2, stride=2, padding=0, dilation=1, ceil_mode=False)\n",
       "    (5): Conv2d(64, 128, kernel_size=(3, 3), stride=(1, 1), padding=(1, 1))\n",
       "    (6): ReLU(inplace=True)\n",
       "    (7): Conv2d(128, 128, kernel_size=(3, 3), stride=(1, 1), padding=(1, 1))\n",
       "    (8): ReLU(inplace=True)\n",
       "    (9): MaxPool2d(kernel_size=2, stride=2, padding=0, dilation=1, ceil_mode=False)\n",
       "    (10): Conv2d(128, 256, kernel_size=(3, 3), stride=(1, 1), padding=(1, 1))\n",
       "    (11): ReLU(inplace=True)\n",
       "    (12): Conv2d(256, 256, kernel_size=(3, 3), stride=(1, 1), padding=(1, 1))\n",
       "    (13): ReLU(inplace=True)\n",
       "    (14): Conv2d(256, 256, kernel_size=(3, 3), stride=(1, 1), padding=(1, 1))\n",
       "    (15): ReLU(inplace=True)\n",
       "    (16): MaxPool2d(kernel_size=2, stride=2, padding=0, dilation=1, ceil_mode=False)\n",
       "    (17): Conv2d(256, 512, kernel_size=(3, 3), stride=(1, 1), padding=(1, 1))\n",
       "    (18): ReLU(inplace=True)\n",
       "    (19): Conv2d(512, 512, kernel_size=(3, 3), stride=(1, 1), padding=(1, 1))\n",
       "    (20): ReLU(inplace=True)\n",
       "    (21): Conv2d(512, 512, kernel_size=(3, 3), stride=(1, 1), padding=(1, 1))\n",
       "    (22): ReLU(inplace=True)\n",
       "    (23): MaxPool2d(kernel_size=2, stride=2, padding=0, dilation=1, ceil_mode=False)\n",
       "    (24): Conv2d(512, 512, kernel_size=(3, 3), stride=(1, 1), padding=(1, 1))\n",
       "    (25): ReLU(inplace=True)\n",
       "    (26): Conv2d(512, 512, kernel_size=(3, 3), stride=(1, 1), padding=(1, 1))\n",
       "    (27): ReLU(inplace=True)\n",
       "    (28): Conv2d(512, 512, kernel_size=(3, 3), stride=(1, 1), padding=(1, 1))\n",
       "    (29): ReLU(inplace=True)\n",
       "    (30): MaxPool2d(kernel_size=2, stride=2, padding=0, dilation=1, ceil_mode=False)\n",
       "  )\n",
       "  (avgpool): AdaptiveAvgPool2d(output_size=(7, 7))\n",
       "  (classifier): Sequential(\n",
       "    (0): Linear(in_features=25088, out_features=4096, bias=True)\n",
       "    (1): ReLU(inplace=True)\n",
       "    (2): Dropout(p=0.5, inplace=False)\n",
       "    (3): Linear(in_features=4096, out_features=4096, bias=True)\n",
       "    (4): ReLU(inplace=True)\n",
       "    (5): Dropout(p=0.5, inplace=False)\n",
       "    (6): Linear(in_features=4096, out_features=1000, bias=True)\n",
       "  )\n",
       ")"
      ]
     },
     "execution_count": 39,
     "metadata": {},
     "output_type": "execute_result"
    }
   ],
   "source": [
    "#net = models.alexnet(pretrained=True)\n",
    "net = models.vgg16(pretrained=True)\n",
    "net"
   ]
  },
  {
   "cell_type": "code",
   "execution_count": 40,
   "id": "0b85b14e",
   "metadata": {},
   "outputs": [],
   "source": [
    "from pytorch_model_summary import summary"
   ]
  },
  {
   "cell_type": "code",
   "execution_count": 41,
   "id": "97fd3a7d",
   "metadata": {},
   "outputs": [
    {
     "name": "stdout",
     "output_type": "stream",
     "text": [
      "-------------------------------------------------------------------------------\n",
      "           Layer (type)            Input Shape         Param #     Tr. Param #\n",
      "===============================================================================\n",
      "               Conv2d-1       [1, 3, 224, 224]           1,792           1,792\n",
      "                 ReLU-2      [1, 64, 224, 224]               0               0\n",
      "               Conv2d-3      [1, 64, 224, 224]          36,928          36,928\n",
      "                 ReLU-4      [1, 64, 224, 224]               0               0\n",
      "            MaxPool2d-5      [1, 64, 224, 224]               0               0\n",
      "               Conv2d-6      [1, 64, 112, 112]          73,856          73,856\n",
      "                 ReLU-7     [1, 128, 112, 112]               0               0\n",
      "               Conv2d-8     [1, 128, 112, 112]         147,584         147,584\n",
      "                 ReLU-9     [1, 128, 112, 112]               0               0\n",
      "           MaxPool2d-10     [1, 128, 112, 112]               0               0\n",
      "              Conv2d-11       [1, 128, 56, 56]         295,168         295,168\n",
      "                ReLU-12       [1, 256, 56, 56]               0               0\n",
      "              Conv2d-13       [1, 256, 56, 56]         590,080         590,080\n",
      "                ReLU-14       [1, 256, 56, 56]               0               0\n",
      "              Conv2d-15       [1, 256, 56, 56]         590,080         590,080\n",
      "                ReLU-16       [1, 256, 56, 56]               0               0\n",
      "           MaxPool2d-17       [1, 256, 56, 56]               0               0\n",
      "              Conv2d-18       [1, 256, 28, 28]       1,180,160       1,180,160\n",
      "                ReLU-19       [1, 512, 28, 28]               0               0\n",
      "              Conv2d-20       [1, 512, 28, 28]       2,359,808       2,359,808\n",
      "                ReLU-21       [1, 512, 28, 28]               0               0\n",
      "              Conv2d-22       [1, 512, 28, 28]       2,359,808       2,359,808\n",
      "                ReLU-23       [1, 512, 28, 28]               0               0\n",
      "           MaxPool2d-24       [1, 512, 28, 28]               0               0\n",
      "              Conv2d-25       [1, 512, 14, 14]       2,359,808       2,359,808\n",
      "                ReLU-26       [1, 512, 14, 14]               0               0\n",
      "              Conv2d-27       [1, 512, 14, 14]       2,359,808       2,359,808\n",
      "                ReLU-28       [1, 512, 14, 14]               0               0\n",
      "              Conv2d-29       [1, 512, 14, 14]       2,359,808       2,359,808\n",
      "                ReLU-30       [1, 512, 14, 14]               0               0\n",
      "           MaxPool2d-31       [1, 512, 14, 14]               0               0\n",
      "   AdaptiveAvgPool2d-32         [1, 512, 7, 7]               0               0\n",
      "              Linear-33             [1, 25088]     102,764,544     102,764,544\n",
      "                ReLU-34              [1, 4096]               0               0\n",
      "             Dropout-35              [1, 4096]               0               0\n",
      "              Linear-36              [1, 4096]      16,781,312      16,781,312\n",
      "                ReLU-37              [1, 4096]               0               0\n",
      "             Dropout-38              [1, 4096]               0               0\n",
      "              Linear-39              [1, 4096]       4,097,000       4,097,000\n",
      "===============================================================================\n",
      "Total params: 138,357,544\n",
      "Trainable params: 138,357,544\n",
      "Non-trainable params: 0\n",
      "-------------------------------------------------------------------------------\n"
     ]
    }
   ],
   "source": [
    "print(summary(net, torch.zeros((1, 3, 224, 224)), show_input=True))"
   ]
  },
  {
   "cell_type": "code",
   "execution_count": 42,
   "id": "3cf2d2fe",
   "metadata": {},
   "outputs": [],
   "source": [
    "from utils.utils import out_features"
   ]
  },
  {
   "cell_type": "code",
   "execution_count": 43,
   "id": "a4c173a2",
   "metadata": {},
   "outputs": [
    {
     "name": "stdout",
     "output_type": "stream",
     "text": [
      "Conv2d     (64, 224, 224)          3211296          392.00390625 kB\n",
      "ReLU       (64, 224, 224)          3211296          392.00390625 kB\n",
      "Conv2d     (64, 224, 224)          3211296          392.00390625 kB\n",
      "ReLU       (64, 224, 224)          3211296          392.00390625 kB\n",
      "MaxPool2d  (64, 112, 112)           802848           98.00390625 kB\n",
      "Conv2d     (128, 112, 112)          802848           98.00390625 kB\n",
      "ReLU       (128, 112, 112)          802848           98.00390625 kB\n",
      "Conv2d     (128, 112, 112)          802848           98.00390625 kB\n",
      "ReLU       (128, 112, 112)          802848           98.00390625 kB\n",
      "MaxPool2d  (128, 56, 56)            200736           24.50390625 kB\n",
      "Conv2d     (256, 56, 56)            200736           24.50390625 kB\n",
      "ReLU       (256, 56, 56)            200736           24.50390625 kB\n",
      "Conv2d     (256, 56, 56)            200736           24.50390625 kB\n",
      "ReLU       (256, 56, 56)            200736           24.50390625 kB\n",
      "Conv2d     (256, 56, 56)            200736           24.50390625 kB\n",
      "ReLU       (256, 56, 56)            200736           24.50390625 kB\n",
      "MaxPool2d  (256, 28, 28)             50208            6.12890625 kB\n",
      "Conv2d     (512, 28, 28)             50208            6.12890625 kB\n",
      "ReLU       (512, 28, 28)             50208            6.12890625 kB\n",
      "Conv2d     (512, 28, 28)             50208            6.12890625 kB\n",
      "ReLU       (512, 28, 28)             50208            6.12890625 kB\n",
      "Conv2d     (512, 28, 28)             50208            6.12890625 kB\n",
      "ReLU       (512, 28, 28)             50208            6.12890625 kB\n",
      "MaxPool2d  (512, 14, 14)             12576            1.53515625 kB\n",
      "Conv2d     (512, 14, 14)             12576            1.53515625 kB\n",
      "ReLU       (512, 14, 14)             12576            1.53515625 kB\n",
      "Conv2d     (512, 14, 14)             12576            1.53515625 kB\n",
      "ReLU       (512, 14, 14)             12576            1.53515625 kB\n",
      "Conv2d     (512, 14, 14)             12576            1.53515625 kB\n",
      "ReLU       (512, 14, 14)             12576            1.53515625 kB\n",
      "MaxPool2d  (512, 7, 7)                3168            0.38671875 kB\n"
     ]
    }
   ],
   "source": [
    "input_shape = (3, 224, 224)\n",
    "for layer in net.features:\n",
    "    input_shape = out_features(input_shape, layer)\n",
    "    B = 32*(2*input_shape[1]*input_shape[2]+1)\n",
    "    print(f\"{layer.__class__.__name__:<10} {str(input_shape):<15} {B:>15}       {((B/8)/1024):>15} kB\")"
   ]
  },
  {
   "cell_type": "code",
   "execution_count": null,
   "id": "42f87465",
   "metadata": {},
   "outputs": [],
   "source": []
  }
 ],
 "metadata": {
  "kernelspec": {
   "display_name": "Python 3 (ipykernel)",
   "language": "python",
   "name": "python3"
  },
  "language_info": {
   "codemirror_mode": {
    "name": "ipython",
    "version": 3
   },
   "file_extension": ".py",
   "mimetype": "text/x-python",
   "name": "python",
   "nbconvert_exporter": "python",
   "pygments_lexer": "ipython3",
   "version": "3.9.7"
  }
 },
 "nbformat": 4,
 "nbformat_minor": 5
}
