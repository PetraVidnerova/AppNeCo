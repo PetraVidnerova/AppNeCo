{
 "cells": [
  {
   "cell_type": "code",
   "execution_count": 1,
   "id": "7f294f7a",
   "metadata": {},
   "outputs": [],
   "source": [
    "import torch\n",
    "import torch.nn as nn\n",
    "import torchvision.models as models\n",
    "from thop import profile"
   ]
  },
  {
   "cell_type": "code",
   "execution_count": null,
   "id": "ba3f5594",
   "metadata": {},
   "outputs": [],
   "source": []
  },
  {
   "cell_type": "code",
   "execution_count": 2,
   "id": "fba0c3a5",
   "metadata": {},
   "outputs": [],
   "source": [
    "works = [\n",
    "    models.alexnet(pretrained=True),\n",
    "    models.vgg16(pretrained=True)\n",
    "]\n",
    "nets = [\n",
    "    models.mobilenet_v2(pretrained=True)\n",
    "]\n",
    "waits = [\n",
    "    models.mobilenet_v3_large(pretrained=True),\n",
    "    models.mobilenet_v3_small(pretrained=True),\n",
    "    models.resnext50_32x4d(pretrained=True),\n",
    "    models.wide_resnet50_2(pretrained=True),\n",
    "    models.mnasnet1_0(pretrained=True),\n",
    "    models.efficientnet_b0(pretrained=True),\n",
    "    models.efficientnet_b1(pretrained=True),\n",
    "    models.efficientnet_b2(pretrained=True),\n",
    "    models.efficientnet_b3(pretrained=True),\n",
    "    models.efficientnet_b4(pretrained=True),\n",
    "    models.efficientnet_b5(pretrained=True),\n",
    "    models.efficientnet_b6(pretrained=True),\n",
    "    models.efficientnet_b7(pretrained=True),\n",
    "    models.regnet_y_400mf(pretrained=True),\n",
    "    models.regnet_y_800mf(pretrained=True),\n",
    "    models.regnet_y_1_6gf(pretrained=True),\n",
    "    models.regnet_y_3_2gf(pretrained=True),\n",
    "    models.regnet_y_8gf(pretrained=True),\n",
    "    models.regnet_y_16gf(pretrained=True),\n",
    "    models.regnet_y_32gf(pretrained=True),\n",
    "    models.regnet_x_400mf(pretrained=True),\n",
    "    models.regnet_x_800mf(pretrained=True),\n",
    "    models.regnet_x_1_6gf(pretrained=True),\n",
    "    models.regnet_x_3_2gf(pretrained=True),\n",
    "    models.regnet_x_8gf(pretrained=True),\n",
    "    models.regnet_x_16gf(pretrained=True),\n",
    "    models.regnet_x_32gf(pretrained=True),\n",
    "    models.vit_b_16(pretrained=True),\n",
    "    models.vit_b_32(pretrained=True),\n",
    "    models.vit_l_16(pretrained=True),\n",
    "    models.vit_l_32(pretrained=True),\n",
    "    models.convnext_tiny(pretrained=True),\n",
    "    models.convnext_small(pretrained=True),\n",
    "    models.convnext_base(pretrained=True),\n",
    "    models.convnext_large(pretrained=True),\n",
    "]"
   ]
  },
  {
   "cell_type": "code",
   "execution_count": 3,
   "id": "19785cad",
   "metadata": {},
   "outputs": [],
   "source": [
    "input_ = torch.randn(1, 3, 224, 224)"
   ]
  },
  {
   "cell_type": "code",
   "execution_count": 4,
   "id": "64859dc3",
   "metadata": {},
   "outputs": [
    {
     "name": "stdout",
     "output_type": "stream",
     "text": [
      "[INFO] Register count_convNd() for <class 'torch.nn.modules.conv.Conv2d'>.\n",
      "[INFO] Register count_bn() for <class 'torch.nn.modules.batchnorm.BatchNorm2d'>.\n",
      "[INFO] Register zero_ops() for <class 'torch.nn.modules.activation.ReLU6'>.\n",
      "[INFO] Register zero_ops() for <class 'torch.nn.modules.container.Sequential'>.\n",
      "[INFO] Register zero_ops() for <class 'torch.nn.modules.dropout.Dropout'>.\n",
      "[INFO] Register count_linear() for <class 'torch.nn.modules.linear.Linear'>.\n",
      "---> 3504872.0\n"
     ]
    }
   ],
   "source": [
    "for net in nets:\n",
    "    macs, params = profile(net, inputs=(input_,))\n",
    "    print(\"--->\", params)"
   ]
  },
  {
   "cell_type": "code",
   "execution_count": 5,
   "id": "62943edf",
   "metadata": {},
   "outputs": [],
   "source": [
    "from utils import n_parameters"
   ]
  },
  {
   "cell_type": "code",
   "execution_count": 6,
   "id": "08ae94a4",
   "metadata": {},
   "outputs": [
    {
     "name": "stdout",
     "output_type": "stream",
     "text": [
      "MobileNetV2\n",
      "ConvNormActivation(\n",
      "  (0): Conv2d(3, 32, kernel_size=(3, 3), stride=(2, 2), padding=(1, 1), bias=False)\n",
      "  (1): BatchNorm2d(32, eps=1e-05, momentum=0.1, affine=True, track_running_stats=True)\n",
      "  (2): ReLU6(inplace=True)\n",
      ")\n"
     ]
    },
    {
     "ename": "ValueError",
     "evalue": "unknown layer type",
     "output_type": "error",
     "traceback": [
      "\u001b[0;31m---------------------------------------------------------------------------\u001b[0m",
      "\u001b[0;31mValueError\u001b[0m                                Traceback (most recent call last)",
      "Input \u001b[0;32mIn [6]\u001b[0m, in \u001b[0;36m<cell line: 1>\u001b[0;34m()\u001b[0m\n\u001b[1;32m      1\u001b[0m \u001b[38;5;28;01mfor\u001b[39;00m net \u001b[38;5;129;01min\u001b[39;00m nets:\n\u001b[1;32m      2\u001b[0m     \u001b[38;5;28mprint\u001b[39m(net\u001b[38;5;241m.\u001b[39m\u001b[38;5;18m__class__\u001b[39m\u001b[38;5;241m.\u001b[39m\u001b[38;5;18m__name__\u001b[39m)\n\u001b[0;32m----> 3\u001b[0m     \u001b[38;5;28mprint\u001b[39m(\u001b[43mn_parameters\u001b[49m\u001b[43m(\u001b[49m\u001b[43mnet\u001b[49m\u001b[43m)\u001b[49m)\n",
      "File \u001b[0;32m~/AppNeCo/HW-NAS-Bench/utils.py:23\u001b[0m, in \u001b[0;36mn_parameters\u001b[0;34m(net)\u001b[0m\n\u001b[1;32m     21\u001b[0m     \u001b[38;5;28;01melse\u001b[39;00m:\n\u001b[1;32m     22\u001b[0m         \u001b[38;5;28mprint\u001b[39m(layer)\n\u001b[0;32m---> 23\u001b[0m         \u001b[38;5;28;01mraise\u001b[39;00m \u001b[38;5;167;01mValueError\u001b[39;00m(\u001b[38;5;124m\"\u001b[39m\u001b[38;5;124munknown layer type\u001b[39m\u001b[38;5;124m\"\u001b[39m)\n\u001b[1;32m     25\u001b[0m \u001b[38;5;28;01mfor\u001b[39;00m layer \u001b[38;5;129;01min\u001b[39;00m net\u001b[38;5;241m.\u001b[39mclassifier:\n\u001b[1;32m     26\u001b[0m     \u001b[38;5;28;01mif\u001b[39;00m \u001b[38;5;28misinstance\u001b[39m(layer, nn\u001b[38;5;241m.\u001b[39mLinear):\n",
      "\u001b[0;31mValueError\u001b[0m: unknown layer type"
     ]
    }
   ],
   "source": [
    "for net in nets:\n",
    "    print(net.__class__.__name__)\n",
    "    print(n_parameters(net))"
   ]
  },
  {
   "cell_type": "code",
   "execution_count": null,
   "id": "f9b32e0a",
   "metadata": {},
   "outputs": [],
   "source": [
    "import numpy as np\n",
    "from math import floor"
   ]
  },
  {
   "cell_type": "code",
   "execution_count": null,
   "id": "4721f367",
   "metadata": {},
   "outputs": [],
   "source": [
    "model_parameters = filter(lambda p: p.requires_grad, net.parameters())\n",
    "counted_params = sum([np.prod(p.size()) for p in model_parameters])"
   ]
  },
  {
   "cell_type": "code",
   "execution_count": null,
   "id": "299439ac",
   "metadata": {},
   "outputs": [],
   "source": [
    "counted_params"
   ]
  },
  {
   "cell_type": "code",
   "execution_count": null,
   "id": "0b85b14e",
   "metadata": {},
   "outputs": [],
   "source": [
    "from pytorch_model_summary import summary"
   ]
  },
  {
   "cell_type": "code",
   "execution_count": null,
   "id": "97fd3a7d",
   "metadata": {},
   "outputs": [],
   "source": [
    "print(summary(net, torch.zeros((1, 3, 224, 224)), show_input=True))"
   ]
  },
  {
   "cell_type": "code",
   "execution_count": null,
   "id": "ba9944c0",
   "metadata": {},
   "outputs": [],
   "source": []
  },
  {
   "cell_type": "code",
   "execution_count": null,
   "id": "d929ffe4",
   "metadata": {},
   "outputs": [],
   "source": []
  }
 ],
 "metadata": {
  "kernelspec": {
   "display_name": "Python 3 (ipykernel)",
   "language": "python",
   "name": "python3"
  },
  "language_info": {
   "codemirror_mode": {
    "name": "ipython",
    "version": 3
   },
   "file_extension": ".py",
   "mimetype": "text/x-python",
   "name": "python",
   "nbconvert_exporter": "python",
   "pygments_lexer": "ipython3",
   "version": "3.9.7"
  }
 },
 "nbformat": 4,
 "nbformat_minor": 5
}
