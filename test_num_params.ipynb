{
 "cells": [
  {
   "cell_type": "code",
   "execution_count": 1,
   "id": "7f294f7a",
   "metadata": {},
   "outputs": [],
   "source": [
    "import torch\n",
    "import torch.nn as nn\n",
    "import torchvision.models as models\n",
    "from thop import profile\n",
    "\n",
    "import numpy as np"
   ]
  },
  {
   "cell_type": "code",
   "execution_count": 38,
   "id": "fba0c3a5",
   "metadata": {},
   "outputs": [
    {
     "data": {
      "text/plain": [
       "AlexNet(\n",
       "  (features): Sequential(\n",
       "    (0): Sequential(\n",
       "      (0): Conv2d(1, 3, kernel_size=(1, 1), stride=(1, 1))\n",
       "      (1): Conv2d(3, 64, kernel_size=(11, 11), stride=(4, 4), padding=(2, 2))\n",
       "    )\n",
       "    (1): ReLU(inplace=True)\n",
       "    (2): MaxPool2d(kernel_size=3, stride=2, padding=0, dilation=1, ceil_mode=False)\n",
       "    (3): Conv2d(64, 192, kernel_size=(5, 5), stride=(1, 1), padding=(2, 2))\n",
       "    (4): ReLU(inplace=True)\n",
       "    (5): MaxPool2d(kernel_size=3, stride=2, padding=0, dilation=1, ceil_mode=False)\n",
       "    (6): Conv2d(192, 384, kernel_size=(3, 3), stride=(1, 1), padding=(1, 1))\n",
       "    (7): ReLU(inplace=True)\n",
       "    (8): Conv2d(384, 256, kernel_size=(3, 3), stride=(1, 1), padding=(1, 1))\n",
       "    (9): ReLU(inplace=True)\n",
       "    (10): Conv2d(256, 256, kernel_size=(3, 3), stride=(1, 1), padding=(1, 1))\n",
       "    (11): ReLU(inplace=True)\n",
       "    (12): MaxPool2d(kernel_size=3, stride=2, padding=0, dilation=1, ceil_mode=False)\n",
       "  )\n",
       "  (avgpool): AdaptiveAvgPool2d(output_size=(6, 6))\n",
       "  (classifier): Sequential(\n",
       "    (0): Dropout(p=0.5, inplace=False)\n",
       "    (1): Linear(in_features=9216, out_features=4096, bias=True)\n",
       "    (2): ReLU(inplace=True)\n",
       "    (3): Dropout(p=0.5, inplace=False)\n",
       "    (4): Linear(in_features=4096, out_features=4096, bias=True)\n",
       "    (5): ReLU(inplace=True)\n",
       "    (6): Linear(in_features=4096, out_features=10, bias=True)\n",
       "  )\n",
       ")"
      ]
     },
     "execution_count": 38,
     "metadata": {},
     "output_type": "execute_result"
    }
   ],
   "source": [
    "alexnet = models.alexnet(pretrained=True)\n",
    "vgg16 = models.vgg16(pretrained=True)\n",
    "\n",
    "\n",
    "alexnet_cifar = torch.load(\"cifar10_net2.pt\", map_location=torch.device('cpu'))\n",
    "alexnet_cifar\n",
    "alexnet_mnist = torch.load(\"mnist_net1.pt\", map_location=torch.device(\"cpu\"))\n",
    "alexnet_mnist"
   ]
  },
  {
   "cell_type": "code",
   "execution_count": 39,
   "id": "19785cad",
   "metadata": {},
   "outputs": [],
   "source": [
    "input_ = torch.randn(1, 3, 224, 224)"
   ]
  },
  {
   "cell_type": "code",
   "execution_count": 40,
   "id": "64859dc3",
   "metadata": {},
   "outputs": [
    {
     "name": "stdout",
     "output_type": "stream",
     "text": [
      "[INFO] Register count_convNd() for <class 'torch.nn.modules.conv.Conv2d'>.\n",
      "[INFO] Register zero_ops() for <class 'torch.nn.modules.activation.ReLU'>.\n",
      "[INFO] Register zero_ops() for <class 'torch.nn.modules.pooling.MaxPool2d'>.\n",
      "[INFO] Register zero_ops() for <class 'torch.nn.modules.container.Sequential'>.\n",
      "[INFO] Register count_adap_avgpool() for <class 'torch.nn.modules.pooling.AdaptiveAvgPool2d'>.\n",
      "[INFO] Register zero_ops() for <class 'torch.nn.modules.dropout.Dropout'>.\n",
      "[INFO] Register count_linear() for <class 'torch.nn.modules.linear.Linear'>.\n",
      "alexnet ---> 61100840.0\n",
      "[INFO] Register count_convNd() for <class 'torch.nn.modules.conv.Conv2d'>.\n",
      "[INFO] Register zero_ops() for <class 'torch.nn.modules.activation.ReLU'>.\n",
      "[INFO] Register zero_ops() for <class 'torch.nn.modules.pooling.MaxPool2d'>.\n",
      "[INFO] Register zero_ops() for <class 'torch.nn.modules.container.Sequential'>.\n",
      "[INFO] Register count_adap_avgpool() for <class 'torch.nn.modules.pooling.AdaptiveAvgPool2d'>.\n",
      "[INFO] Register count_linear() for <class 'torch.nn.modules.linear.Linear'>.\n",
      "[INFO] Register zero_ops() for <class 'torch.nn.modules.dropout.Dropout'>.\n",
      "vgg16 ---> 138357544.0\n"
     ]
    },
    {
     "name": "stderr",
     "output_type": "stream",
     "text": [
      "/home/petra/miniconda3/envs/sima/lib/python3.9/site-packages/thop/vision/basic_hooks.py:115: UserWarning: __floordiv__ is deprecated, and its behavior will change in a future version of pytorch. It currently rounds toward 0 (like the 'trunc' function NOT 'floor'). This results in incorrect rounding for negative values. To keep the current behavior, use torch.div(a, b, rounding_mode='trunc'), or for actual floor division, use torch.div(a, b, rounding_mode='floor').\n",
      "  kernel = torch.DoubleTensor([*(x[0].shape[2:])]) // torch.DoubleTensor(\n"
     ]
    }
   ],
   "source": [
    "for name, net in (\"alexnet\", alexnet), (\"vgg16\", vgg16):\n",
    "    macs, params = profile(net, inputs=(input_,))\n",
    "    print(name, \"--->\", params)"
   ]
  },
  {
   "cell_type": "code",
   "execution_count": 5,
   "id": "0b85b14e",
   "metadata": {},
   "outputs": [],
   "source": [
    "from pytorch_model_summary import summary"
   ]
  },
  {
   "cell_type": "code",
   "execution_count": 36,
   "id": "97fd3a7d",
   "metadata": {},
   "outputs": [
    {
     "name": "stdout",
     "output_type": "stream",
     "text": [
      "-----------------------------------------------------------------------------\n",
      "           Layer (type)          Input Shape         Param #     Tr. Param #\n",
      "=============================================================================\n",
      "               Conv2d-1     [1, 3, 224, 224]          23,296          23,296\n",
      "                 ReLU-2      [1, 64, 55, 55]               0               0\n",
      "            MaxPool2d-3      [1, 64, 55, 55]               0               0\n",
      "               Conv2d-4      [1, 64, 27, 27]         307,392         307,392\n",
      "                 ReLU-5     [1, 192, 27, 27]               0               0\n",
      "            MaxPool2d-6     [1, 192, 27, 27]               0               0\n",
      "               Conv2d-7     [1, 192, 13, 13]         663,936         663,936\n",
      "                 ReLU-8     [1, 384, 13, 13]               0               0\n",
      "               Conv2d-9     [1, 384, 13, 13]         884,992         884,992\n",
      "                ReLU-10     [1, 256, 13, 13]               0               0\n",
      "              Conv2d-11     [1, 256, 13, 13]         590,080         590,080\n",
      "                ReLU-12     [1, 256, 13, 13]               0               0\n",
      "           MaxPool2d-13     [1, 256, 13, 13]               0               0\n",
      "   AdaptiveAvgPool2d-14       [1, 256, 6, 6]               0               0\n",
      "             Dropout-15            [1, 9216]               0               0\n",
      "              Linear-16            [1, 9216]      37,752,832      37,752,832\n",
      "                ReLU-17            [1, 4096]               0               0\n",
      "             Dropout-18            [1, 4096]               0               0\n",
      "              Linear-19            [1, 4096]      16,781,312      16,781,312\n",
      "                ReLU-20            [1, 4096]               0               0\n",
      "              Linear-21            [1, 4096]       4,097,000       4,097,000\n",
      "=============================================================================\n",
      "Total params: 61,100,840\n",
      "Trainable params: 61,100,840\n",
      "Non-trainable params: 0\n",
      "-----------------------------------------------------------------------------\n",
      "-------------------------------------------------------------------------------\n",
      "           Layer (type)            Input Shape         Param #     Tr. Param #\n",
      "===============================================================================\n",
      "               Conv2d-1       [1, 3, 224, 224]           1,792           1,792\n",
      "                 ReLU-2      [1, 64, 224, 224]               0               0\n",
      "               Conv2d-3      [1, 64, 224, 224]          36,928          36,928\n",
      "                 ReLU-4      [1, 64, 224, 224]               0               0\n",
      "            MaxPool2d-5      [1, 64, 224, 224]               0               0\n",
      "               Conv2d-6      [1, 64, 112, 112]          73,856          73,856\n",
      "                 ReLU-7     [1, 128, 112, 112]               0               0\n",
      "               Conv2d-8     [1, 128, 112, 112]         147,584         147,584\n",
      "                 ReLU-9     [1, 128, 112, 112]               0               0\n",
      "           MaxPool2d-10     [1, 128, 112, 112]               0               0\n",
      "              Conv2d-11       [1, 128, 56, 56]         295,168         295,168\n",
      "                ReLU-12       [1, 256, 56, 56]               0               0\n",
      "              Conv2d-13       [1, 256, 56, 56]         590,080         590,080\n",
      "                ReLU-14       [1, 256, 56, 56]               0               0\n",
      "              Conv2d-15       [1, 256, 56, 56]         590,080         590,080\n",
      "                ReLU-16       [1, 256, 56, 56]               0               0\n",
      "           MaxPool2d-17       [1, 256, 56, 56]               0               0\n",
      "              Conv2d-18       [1, 256, 28, 28]       1,180,160       1,180,160\n",
      "                ReLU-19       [1, 512, 28, 28]               0               0\n",
      "              Conv2d-20       [1, 512, 28, 28]       2,359,808       2,359,808\n",
      "                ReLU-21       [1, 512, 28, 28]               0               0\n",
      "              Conv2d-22       [1, 512, 28, 28]       2,359,808       2,359,808\n",
      "                ReLU-23       [1, 512, 28, 28]               0               0\n",
      "           MaxPool2d-24       [1, 512, 28, 28]               0               0\n",
      "              Conv2d-25       [1, 512, 14, 14]       2,359,808       2,359,808\n",
      "                ReLU-26       [1, 512, 14, 14]               0               0\n",
      "              Conv2d-27       [1, 512, 14, 14]       2,359,808       2,359,808\n",
      "                ReLU-28       [1, 512, 14, 14]               0               0\n",
      "              Conv2d-29       [1, 512, 14, 14]       2,359,808       2,359,808\n",
      "                ReLU-30       [1, 512, 14, 14]               0               0\n",
      "           MaxPool2d-31       [1, 512, 14, 14]               0               0\n",
      "   AdaptiveAvgPool2d-32         [1, 512, 7, 7]               0               0\n",
      "              Linear-33             [1, 25088]     102,764,544     102,764,544\n",
      "                ReLU-34              [1, 4096]               0               0\n",
      "             Dropout-35              [1, 4096]               0               0\n",
      "              Linear-36              [1, 4096]      16,781,312      16,781,312\n",
      "                ReLU-37              [1, 4096]               0               0\n",
      "             Dropout-38              [1, 4096]               0               0\n",
      "              Linear-39              [1, 4096]       4,097,000       4,097,000\n",
      "===============================================================================\n",
      "Total params: 138,357,544\n",
      "Trainable params: 138,357,544\n",
      "Non-trainable params: 0\n",
      "-------------------------------------------------------------------------------\n"
     ]
    }
   ],
   "source": [
    "for net in alexnet, vgg16:\n",
    "    print(summary(net, torch.zeros((1, 3, 224, 224)), show_input=True))"
   ]
  },
  {
   "cell_type": "code",
   "execution_count": 41,
   "id": "ba9944c0",
   "metadata": {},
   "outputs": [
    {
     "name": "stdout",
     "output_type": "stream",
     "text": [
      "features.0.weight: torch.Size([64, 3, 11, 11])\n",
      "features.0.bias: torch.Size([64])\n",
      "features.3.weight: torch.Size([192, 64, 5, 5])\n",
      "features.3.bias: torch.Size([192])\n",
      "features.6.weight: torch.Size([384, 192, 3, 3])\n",
      "features.6.bias: torch.Size([384])\n",
      "features.8.weight: torch.Size([256, 384, 3, 3])\n",
      "features.8.bias: torch.Size([256])\n",
      "features.10.weight: torch.Size([256, 256, 3, 3])\n",
      "features.10.bias: torch.Size([256])\n",
      "classifier.1.weight: torch.Size([4096, 9216])\n",
      "classifier.1.bias: torch.Size([4096])\n",
      "classifier.4.weight: torch.Size([4096, 4096])\n",
      "classifier.4.bias: torch.Size([4096])\n",
      "classifier.6.weight: torch.Size([1000, 4096])\n",
      "classifier.6.bias: torch.Size([1000])\n",
      "features.0.weight: torch.Size([64, 3, 11, 11])\n",
      "features.0.bias: torch.Size([64])\n",
      "features.3.weight: torch.Size([192, 64, 5, 5])\n",
      "features.3.bias: torch.Size([192])\n",
      "features.6.weight: torch.Size([384, 192, 3, 3])\n",
      "features.6.bias: torch.Size([384])\n",
      "features.8.weight: torch.Size([256, 384, 3, 3])\n",
      "features.8.bias: torch.Size([256])\n",
      "features.10.weight: torch.Size([256, 256, 3, 3])\n",
      "features.10.bias: torch.Size([256])\n",
      "classifier.1.weight: torch.Size([4096, 9216])\n",
      "classifier.1.bias: torch.Size([4096])\n",
      "classifier.4.weight: torch.Size([4096, 4096])\n",
      "classifier.4.bias: torch.Size([4096])\n",
      "classifier.6.weight: torch.Size([10, 4096])\n",
      "classifier.6.bias: torch.Size([10])\n",
      "features.0.0.weight: torch.Size([3, 1, 1, 1])\n",
      "features.0.0.bias: torch.Size([3])\n",
      "features.0.1.weight: torch.Size([64, 3, 11, 11])\n",
      "features.0.1.bias: torch.Size([64])\n",
      "features.3.weight: torch.Size([192, 64, 5, 5])\n",
      "features.3.bias: torch.Size([192])\n",
      "features.6.weight: torch.Size([384, 192, 3, 3])\n",
      "features.6.bias: torch.Size([384])\n",
      "features.8.weight: torch.Size([256, 384, 3, 3])\n",
      "features.8.bias: torch.Size([256])\n",
      "features.10.weight: torch.Size([256, 256, 3, 3])\n",
      "features.10.bias: torch.Size([256])\n",
      "classifier.1.weight: torch.Size([4096, 9216])\n",
      "classifier.1.bias: torch.Size([4096])\n",
      "classifier.4.weight: torch.Size([4096, 4096])\n",
      "classifier.4.bias: torch.Size([4096])\n",
      "classifier.6.weight: torch.Size([10, 4096])\n",
      "classifier.6.bias: torch.Size([10])\n"
     ]
    }
   ],
   "source": [
    "numpy_filters = {\n",
    "    \"alexnet\": [],\n",
    "    \"alexnet_cifar\": [],\n",
    "    \"alexnet_mnist\": []\n",
    "}\n",
    "\n",
    "for netname, net in (\"alexnet\", alexnet), (\"alexnet_cifar\", alexnet_cifar), (\"alexnet_mnist\", alexnet_mnist):\n",
    "    for name, param in net.named_parameters():\n",
    "        print(f\"{name}: {param.data.shape}\")\n",
    "        if name.endswith(\".weight\") and name.startswith(\"features\"):\n",
    "            numpy_filters[netname].append(np.array(param.data).ravel())"
   ]
  },
  {
   "cell_type": "code",
   "execution_count": 42,
   "id": "48996c6e",
   "metadata": {},
   "outputs": [],
   "source": [
    "all_params = {\n",
    "    \"alexnet\": np.hstack(numpy_filters[\"alexnet\"]),\n",
    "    \"alexnet_cifar\": np.hstack(numpy_filters[\"alexnet_cifar\"]),\n",
    "    \"alexnet_mnist\": np.hstack(numpy_filters[\"alexnet_mnist\"])\n",
    "}\n",
    "    "
   ]
  },
  {
   "cell_type": "code",
   "execution_count": 43,
   "id": "0d6f38c8",
   "metadata": {},
   "outputs": [],
   "source": [
    "import seaborn as sns\n",
    "import matplotlib.pyplot as plt\n",
    "%matplotlib inline"
   ]
  },
  {
   "cell_type": "code",
   "execution_count": 44,
   "id": "ac583f8a",
   "metadata": {},
   "outputs": [
    {
     "name": "stdout",
     "output_type": "stream",
     "text": [
      "alexnet -0.8341745 2.2269735\n",
      "alexnet_cifar -0.15827154 0.09936089\n",
      "alexnet_mnist -0.122428745 0.67382056\n"
     ]
    }
   ],
   "source": [
    "for netname in \"alexnet\", \"alexnet_cifar\", \"alexnet_mnist\":\n",
    "    print(netname, all_params[netname].min(), all_params[netname].max())"
   ]
  },
  {
   "cell_type": "code",
   "execution_count": 45,
   "id": "76ab841f",
   "metadata": {},
   "outputs": [
    {
     "data": {
      "image/png": "[encoded data removed]",
      "text/plain": [
       "<Figure size 466.25x360 with 1 Axes>"
      ]
     },
     "metadata": {
      "needs_background": "light"
     },
     "output_type": "display_data"
    }
   ],
   "source": [
    "ax = sns.displot(all_params)\n",
    "ax.set(xlim=(-0.1, 0.1));"
   ]
  },
  {
   "cell_type": "code",
   "execution_count": 46,
   "id": "d929ffe4",
   "metadata": {},
   "outputs": [
    {
     "data": {
      "text/plain": [
       "2468547"
      ]
     },
     "execution_count": 46,
     "metadata": {},
     "output_type": "execute_result"
    }
   ],
   "source": [
    "netname = \"alexnet_mnist\"\n",
    "len(all_params[netname])"
   ]
  },
  {
   "cell_type": "code",
   "execution_count": 47,
   "id": "45b01982",
   "metadata": {},
   "outputs": [
    {
     "data": {
      "text/plain": [
       "0.999994328647581"
      ]
     },
     "execution_count": 47,
     "metadata": {},
     "output_type": "execute_result"
    }
   ],
   "source": [
    "(np.abs(all_params[netname]) <= 0.1).sum() / len(all_params[netname])"
   ]
  },
  {
   "cell_type": "code",
   "execution_count": 48,
   "id": "043020ce",
   "metadata": {},
   "outputs": [
    {
     "data": {
      "text/plain": [
       "0.40666797107772307"
      ]
     },
     "execution_count": 48,
     "metadata": {},
     "output_type": "execute_result"
    }
   ],
   "source": [
    "(np.abs(all_params[netname]) <= 0.01).sum() / len(all_params[netname])"
   ]
  },
  {
   "cell_type": "code",
   "execution_count": 49,
   "id": "8671a341",
   "metadata": {},
   "outputs": [
    {
     "data": {
      "text/plain": [
       "0.041843643244386275"
      ]
     },
     "execution_count": 49,
     "metadata": {},
     "output_type": "execute_result"
    }
   ],
   "source": [
    "(np.abs(all_params[netname]) <= 0.001).sum() / len(all_params[netname])"
   ]
  },
  {
   "cell_type": "code",
   "execution_count": 50,
   "id": "fb79ae3e",
   "metadata": {},
   "outputs": [
    {
     "data": {
      "text/plain": [
       "0.0041797867328432475"
      ]
     },
     "execution_count": 50,
     "metadata": {},
     "output_type": "execute_result"
    }
   ],
   "source": [
    "(np.abs(all_params[netname]) <= 0.0001).sum() / len(all_params[netname])"
   ]
  },
  {
   "cell_type": "code",
   "execution_count": 51,
   "id": "4241c608",
   "metadata": {},
   "outputs": [
    {
     "data": {
      "text/plain": [
       "0.0004306176872467893"
      ]
     },
     "execution_count": 51,
     "metadata": {},
     "output_type": "execute_result"
    }
   ],
   "source": [
    "(np.abs(all_params[netname]) <= 0.00001).sum() / len(all_params[netname])"
   ]
  },
  {
   "cell_type": "code",
   "execution_count": 52,
   "id": "96e438b0",
   "metadata": {},
   "outputs": [
    {
     "data": {
      "text/plain": [
       "0.40666797107772307"
      ]
     },
     "execution_count": 52,
     "metadata": {},
     "output_type": "execute_result"
    }
   ],
   "source": [
    "np.isclose(all_params[netname], 0, atol=1e-02).sum() / len(all_params[netname])"
   ]
  },
  {
   "cell_type": "code",
   "execution_count": null,
   "id": "4d32be0c",
   "metadata": {},
   "outputs": [],
   "source": []
  }
 ],
 "metadata": {
  "kernelspec": {
   "display_name": "Python 3 (ipykernel)",
   "language": "python",
   "name": "python3"
  },
  "language_info": {
   "codemirror_mode": {
    "name": "ipython",
    "version": 3
   },
   "file_extension": ".py",
   "mimetype": "text/x-python",
   "name": "python",
   "nbconvert_exporter": "python",
   "pygments_lexer": "ipython3",
   "version": "3.9.7"
  }
 },
 "nbformat": 4,
 "nbformat_minor": 5
}
